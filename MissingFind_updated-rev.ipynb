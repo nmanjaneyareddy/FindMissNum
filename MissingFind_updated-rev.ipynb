{
  "nbformat": 4,
  "nbformat_minor": 0,
  "metadata": {
    "colab": {
      "provenance": []
    },
    "kernelspec": {
      "name": "python3",
      "display_name": "Python 3"
    },
    "language_info": {
      "name": "python"
    },
    "widgets": {
      "application/vnd.jupyter.widget-state+json": {
        "29e227e6289945579941088bcabae318": {
          "model_module": "@jupyter-widgets/controls",
          "model_name": "FileUploadModel",
          "model_module_version": "1.5.0",
          "state": {
            "_counter": 0,
            "_dom_classes": [],
            "_model_module": "@jupyter-widgets/controls",
            "_model_module_version": "1.5.0",
            "_model_name": "FileUploadModel",
            "_view_count": null,
            "_view_module": "@jupyter-widgets/controls",
            "_view_module_version": "1.5.0",
            "_view_name": "FileUploadView",
            "accept": ".xlsx",
            "button_style": "",
            "data": [],
            "description": "Upload",
            "description_tooltip": null,
            "disabled": false,
            "error": "",
            "icon": "upload",
            "layout": "IPY_MODEL_28f4b24a83c64e5bb2b0688d1fdc9fc4",
            "metadata": [],
            "multiple": false,
            "style": "IPY_MODEL_3462eb64494b4baebb9e9e022e2ca482"
          }
        },
        "28f4b24a83c64e5bb2b0688d1fdc9fc4": {
          "model_module": "@jupyter-widgets/base",
          "model_name": "LayoutModel",
          "model_module_version": "1.2.0",
          "state": {
            "_model_module": "@jupyter-widgets/base",
            "_model_module_version": "1.2.0",
            "_model_name": "LayoutModel",
            "_view_count": null,
            "_view_module": "@jupyter-widgets/base",
            "_view_module_version": "1.2.0",
            "_view_name": "LayoutView",
            "align_content": null,
            "align_items": null,
            "align_self": null,
            "border": null,
            "bottom": null,
            "display": null,
            "flex": null,
            "flex_flow": null,
            "grid_area": null,
            "grid_auto_columns": null,
            "grid_auto_flow": null,
            "grid_auto_rows": null,
            "grid_column": null,
            "grid_gap": null,
            "grid_row": null,
            "grid_template_areas": null,
            "grid_template_columns": null,
            "grid_template_rows": null,
            "height": null,
            "justify_content": null,
            "justify_items": null,
            "left": null,
            "margin": null,
            "max_height": null,
            "max_width": null,
            "min_height": null,
            "min_width": null,
            "object_fit": null,
            "object_position": null,
            "order": null,
            "overflow": null,
            "overflow_x": null,
            "overflow_y": null,
            "padding": null,
            "right": null,
            "top": null,
            "visibility": null,
            "width": null
          }
        },
        "3462eb64494b4baebb9e9e022e2ca482": {
          "model_module": "@jupyter-widgets/controls",
          "model_name": "ButtonStyleModel",
          "model_module_version": "1.5.0",
          "state": {
            "_model_module": "@jupyter-widgets/controls",
            "_model_module_version": "1.5.0",
            "_model_name": "ButtonStyleModel",
            "_view_count": null,
            "_view_module": "@jupyter-widgets/base",
            "_view_module_version": "1.2.0",
            "_view_name": "StyleView",
            "button_color": null,
            "font_weight": ""
          }
        }
      }
    }
  },
  "cells": [
    {
      "cell_type": "code",
      "execution_count": null,
      "metadata": {
        "id": "7L3bUpXWychE",
        "colab": {
          "base_uri": "https://localhost:8080/",
          "height": 66,
          "referenced_widgets": [
            "29e227e6289945579941088bcabae318",
            "28f4b24a83c64e5bb2b0688d1fdc9fc4",
            "3462eb64494b4baebb9e9e022e2ca482"
          ]
        },
        "outputId": "d9f114df-e6b9-4f25-b574-a694b32357a1"
      },
      "outputs": [
        {
          "output_type": "stream",
          "name": "stdout",
          "text": [
            "📂 Please upload an Excel file (.xlsx) to check for missing numbers in the first sheet.\n"
          ]
        },
        {
          "output_type": "display_data",
          "data": {
            "text/plain": [
              "FileUpload(value={}, accept='.xlsx', description='Upload')"
            ],
            "application/vnd.jupyter.widget-view+json": {
              "version_major": 2,
              "version_minor": 0,
              "model_id": "29e227e6289945579941088bcabae318"
            }
          },
          "metadata": {}
        }
      ],
      "source": [
        "#UPDATED 03/02/2025\n",
        "import pandas as pd\n",
        "import ipywidgets as widgets\n",
        "from IPython.display import display\n",
        "import io\n",
        "import re\n",
        "\n",
        "# Function to extract only numbers from mixed data\n",
        "def extract_numbers(value):\n",
        "    if isinstance(value, (int, float)):  # Directly return numbers if already numeric\n",
        "        return int(value) if not pd.isna(value) else None\n",
        "    elif isinstance(value, str):  # Extract numbers from strings\n",
        "        numbers = re.findall(r'\\d+', value)\n",
        "        return int(numbers[0]) if numbers else None\n",
        "    return None\n",
        "\n",
        "# Function to process the uploaded file\n",
        "def process_file(uploaded_file):\n",
        "    try:\n",
        "        # Extract the uploaded file content\n",
        "        uploaded_filename = list(uploaded_file.keys())[0]  # Get the filename\n",
        "        file_content = uploaded_file[uploaded_filename]['content']\n",
        "\n",
        "        # Convert the uploaded file content into a bytes buffer\n",
        "        file_stream = io.BytesIO(file_content)\n",
        "\n",
        "        # Load the Excel file and get the first sheet name dynamically\n",
        "        xls = pd.ExcelFile(file_stream)\n",
        "        first_sheet_name = xls.sheet_names[0]  # Get the first sheet name\n",
        "        print(f\"\\n📄 Processing file: {uploaded_filename}\")\n",
        "        print(f\"📑 Using first sheet: {first_sheet_name}\")\n",
        "\n",
        "        # Read only the first column from the first sheet\n",
        "        bk_stats_scanned = pd.read_excel(xls, sheet_name=first_sheet_name, header=None, usecols=[0])\n",
        "\n",
        "        # Check if the sheet is empty\n",
        "        if bk_stats_scanned.empty:\n",
        "            print(f\"\\n⚠ The first sheet '{first_sheet_name}' in '{uploaded_filename}' is empty.\")\n",
        "            return\n",
        "\n",
        "        # Extract numbers from the first column and remove NaN values\n",
        "        bk_stats_scanned = bk_stats_scanned[0].map(extract_numbers)\n",
        "\n",
        "        # Remove None values (which result from empty or non-numeric rows)\n",
        "        bk_stats_scanned = bk_stats_scanned.dropna().astype(int).tolist()\n",
        "\n",
        "        # Check if the list is still empty after conversion\n",
        "        if not bk_stats_scanned:\n",
        "            print(f\"\\n⚠ No valid numeric data in the first sheet '{first_sheet_name}' of '{uploaded_filename}'.\")\n",
        "            return\n",
        "\n",
        "        # Sort the numbers\n",
        "        bk_stats_scanned = sorted(bk_stats_scanned)\n",
        "\n",
        "        # Get starting and ending numbers\n",
        "        start_number = bk_stats_scanned[0]\n",
        "        end_number = bk_stats_scanned[-1]\n",
        "\n",
        "        # Generate the full range of numbers\n",
        "        total_bk_stats = list(range(start_number, end_number + 1))\n",
        "\n",
        "        # Find the missing numbers\n",
        "        bk_stats_missing = sorted(set(total_bk_stats) - set(bk_stats_scanned))\n",
        "\n",
        "        # Display the results\n",
        "        print(\"\\n✅ File processed successfully!\")\n",
        "        print(f\"📌 Given range: {start_number} to {end_number}\")\n",
        "        print(f\"🔢 Total missing numbers: {len(bk_stats_missing)}\")\n",
        "        print(f\"📚 Missing book numbers: {bk_stats_missing}\")\n",
        "\n",
        "    except ValueError as ve:\n",
        "        print(f\"\\n❌ ValueError: {ve}\")\n",
        "    except FileNotFoundError:\n",
        "        print(f\"\\n❌ File not found: {uploaded_filename}\")\n",
        "    except KeyError:\n",
        "        print(f\"\\n❌ Error: Unable to read the first sheet from '{uploaded_filename}'. Please check the file.\")\n",
        "    except Exception as e:\n",
        "        print(f\"\\n❌ An error occurred while processing '{uploaded_filename}': {e}\")\n",
        "\n",
        "# Create a file upload widget\n",
        "upload_widget = widgets.FileUpload(\n",
        "    accept='.xlsx',  # Only accept Excel files\n",
        "    multiple=False   # Allow only a single file\n",
        ")\n",
        "\n",
        "# Define a callback for when the file is uploaded\n",
        "def on_upload(change):\n",
        "    if change['new']:\n",
        "        process_file(change['new'])\n",
        "\n",
        "# Display message and file upload widget\n",
        "print(\"📂 Please upload an Excel file (.xlsx) to check for missing numbers in the first sheet.\")\n",
        "display(upload_widget)\n",
        "upload_widget.observe(on_upload, names='value')\n"
      ]
    }
  ]
}